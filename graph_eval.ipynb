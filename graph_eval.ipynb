{
 "cells": [
  {
   "cell_type": "code",
   "execution_count": 1,
   "id": "693b5b0c-570a-41cd-9745-faa13a3c67b1",
   "metadata": {},
   "outputs": [],
   "source": [
    "import networkx as nx"
   ]
  },
  {
   "cell_type": "code",
   "execution_count": 2,
   "id": "d2262a4a-1248-47fd-998b-bf5c01558610",
   "metadata": {},
   "outputs": [],
   "source": [
    "g = nx.DiGraph()"
   ]
  },
  {
   "cell_type": "code",
   "execution_count": 3,
   "id": "c2587002-972c-40fc-9a4d-d0de53a9c3c3",
   "metadata": {},
   "outputs": [],
   "source": [
    "g.add_nodes_from(list(\"abcdefg\"))"
   ]
  },
  {
   "cell_type": "code",
   "execution_count": 4,
   "id": "0b668ae8-e39a-4de7-a44d-5e416667a79c",
   "metadata": {},
   "outputs": [],
   "source": [
    "g.add_edges_from(\n",
    "    [(\"a\", \"c\"), (\"b\", \"c\"), (\"c\", \"e\"), (\"d\", \"e\"), (\"f\", \"g\"), (\"e\", \"g\")]\n",
    ")"
   ]
  },
  {
   "cell_type": "code",
   "execution_count": 28,
   "id": "7efad77f-428f-4101-abdd-3e52aa6d95f8",
   "metadata": {},
   "outputs": [
    {
     "data": {
      "image/png": "[encoded data removed]",
      "text/plain": [
       "<Figure size 432x288 with 1 Axes>"
      ]
     },
     "metadata": {},
     "output_type": "display_data"
    }
   ],
   "source": [
    "pos = nx.nx_pydot.pydot_layout(g, prog=\"dot\")\n",
    "nx.draw(g, pos=pos, with_labels=True, font_weight=\"bold\")"
   ]
  },
  {
   "cell_type": "code",
   "execution_count": 20,
   "id": "7a3b0779-9584-416d-8364-20284f0bca6f",
   "metadata": {},
   "outputs": [
    {
     "data": {
      "text/plain": [
       "['a', 'b', 'd', 'f']"
      ]
     },
     "execution_count": 20,
     "metadata": {},
     "output_type": "execute_result"
    }
   ],
   "source": [
    "input_nodes = [node for node in g.nodes if not g.in_degree(node)]\n",
    "input_nodes"
   ]
  },
  {
   "cell_type": "code",
   "execution_count": 7,
   "id": "44d2c51d-361d-4917-b460-ddb1b6adcf01",
   "metadata": {},
   "outputs": [
    {
     "data": {
      "text/plain": [
       "['g']"
      ]
     },
     "execution_count": 7,
     "metadata": {},
     "output_type": "execute_result"
    }
   ],
   "source": [
    "goal_nodes = [node for node in g.nodes if not g.out_degree(node)]\n",
    "goal_nodes"
   ]
  },
  {
   "cell_type": "code",
   "execution_count": 8,
   "id": "ae087c85-a187-48b7-9d8a-4e897a2014cf",
   "metadata": {},
   "outputs": [],
   "source": [
    "for node, val in zip(\"abcdefg\", range(5, 40, 5)):\n",
    "    g.nodes[node][\"value\"] = val"
   ]
  },
  {
   "cell_type": "code",
   "execution_count": 31,
   "id": "2ca664c3-e251-48d2-a592-ee1e4d9547ae",
   "metadata": {},
   "outputs": [],
   "source": [
    "import numpy as np\n",
    "\n",
    "\n",
    "def fun_c(a, b):\n",
    "    return a * np.random.exponential(b,10)\n",
    "\n",
    "\n",
    "def fun_e(c, d):\n",
    "    return d * np.tan(c)\n",
    "\n",
    "\n",
    "def fun_g(e, f):\n",
    "    return f * np.pi ** (1 / e)"
   ]
  },
  {
   "cell_type": "code",
   "execution_count": 10,
   "id": "d2b749cb-4307-43c2-9dc4-bf0e36df147b",
   "metadata": {},
   "outputs": [
    {
     "data": {
      "text/plain": [
       "110132.32897403359"
      ]
     },
     "execution_count": 10,
     "metadata": {},
     "output_type": "execute_result"
    }
   ],
   "source": [
    "fun_c(**{\"a\": 5, \"b\": 10}) # Doble asterisco implica desempaquetar"
   ]
  },
  {
   "cell_type": "code",
   "execution_count": 32,
   "id": "0fe5204d-d836-454d-aaee-27542c31fb9b",
   "metadata": {},
   "outputs": [],
   "source": [
    "g.nodes[\"c\"][\"fun\"] = fun_c\n",
    "g.nodes[\"e\"][\"fun\"] = fun_e\n",
    "g.nodes[\"g\"][\"fun\"] = fun_g"
   ]
  },
  {
   "cell_type": "code",
   "execution_count": 33,
   "id": "7ef81ec6-0eaf-4d6e-89f4-21ea17c68185",
   "metadata": {},
   "outputs": [],
   "source": [
    "def eval(node):\n",
    "    if node in input_nodes:\n",
    "        print(f'Nodo de entrada {node} {g.nodes[node][\"value\"]}')\n",
    "        return g.nodes[node][\"value\"]\n",
    "    else:\n",
    "        param = {pred: eval(pred) for pred in g.predecessors(node)}\n",
    "        g.nodes[node][\"value\"] = g.nodes[node][\"fun\"](**param)\n",
    "        print(f'Nodo de cálculo {node} {g.nodes[node][\"value\"]}')\n",
    "        return g.nodes[node][\"value\"]"
   ]
  },
  {
   "cell_type": "code",
   "execution_count": 34,
   "id": "12146475-057f-4c53-9e06-096ef2fe7cda",
   "metadata": {},
   "outputs": [
    {
     "name": "stdout",
     "output_type": "stream",
     "text": [
      "Nodo de entrada f 30\n",
      "Nodo de entrada a 5\n",
      "Nodo de entrada b 10\n",
      "Nodo de cálculo c [160.7895277   92.75879178  22.46135909  11.5388468    3.72538775\n",
      "  14.02160384 310.24749365  65.44461431  19.57049603   1.03497246]\n",
      "Nodo de entrada d 20\n",
      "Nodo de cálculo e [  12.77152123 -243.92773362   10.16461526  -33.11879193   13.21212247\n",
      "  172.29450754  -19.40031611  -11.68696643   17.57465133   33.6832414 ]\n",
      "Nodo de cálculo g [32.81313279 29.85954266 33.5761666  28.98078489 32.71519906 30.19998452\n",
      " 28.28104092 27.20084685 32.01910207 31.03707718]\n"
     ]
    },
    {
     "data": {
      "text/plain": [
       "array([32.81313279, 29.85954266, 33.5761666 , 28.98078489, 32.71519906,\n",
       "       30.19998452, 28.28104092, 27.20084685, 32.01910207, 31.03707718])"
      ]
     },
     "execution_count": 34,
     "metadata": {},
     "output_type": "execute_result"
    }
   ],
   "source": [
    "eval(\"g\")"
   ]
  },
  {
   "cell_type": "code",
   "execution_count": 14,
   "id": "2024d87c-892d-4a48-a483-ba38b7044a57",
   "metadata": {},
   "outputs": [
    {
     "data": {
      "text/plain": [
       "32.31133762310789"
      ]
     },
     "execution_count": 14,
     "metadata": {},
     "output_type": "execute_result"
    }
   ],
   "source": [
    "30 * np.pi ** (1 / (20 * np.tan(5 * np.exp(10))))"
   ]
  },
  {
   "cell_type": "code",
   "execution_count": 15,
   "id": "acd14018-6b1d-44e2-af56-9bbfacce2cf9",
   "metadata": {},
   "outputs": [
    {
     "data": {
      "text/plain": [
       "32.31133762310789"
      ]
     },
     "execution_count": 15,
     "metadata": {},
     "output_type": "execute_result"
    }
   ],
   "source": [
    "fun_g(g.nodes[\"e\"][\"value\"], g.nodes[\"f\"][\"value\"])"
   ]
  },
  {
   "cell_type": "code",
   "execution_count": 16,
   "id": "371457ac-4418-4ae6-b8d1-8ee50881d51d",
   "metadata": {},
   "outputs": [
    {
     "data": {
      "text/plain": [
       "15.423303607947446"
      ]
     },
     "execution_count": 16,
     "metadata": {},
     "output_type": "execute_result"
    }
   ],
   "source": [
    "fun_e(g.nodes[\"c\"][\"value\"], g.nodes[\"d\"][\"value\"])"
   ]
  },
  {
   "cell_type": "code",
   "execution_count": 17,
   "id": "f1ae3d11-8311-4ead-9d67-71bcc7c78360",
   "metadata": {},
   "outputs": [
    {
     "data": {
      "text/plain": [
       "15.423303607947446"
      ]
     },
     "execution_count": 17,
     "metadata": {},
     "output_type": "execute_result"
    }
   ],
   "source": [
    "g.nodes[\"e\"][\"value\"]"
   ]
  },
  {
   "cell_type": "code",
   "execution_count": 18,
   "id": "76bc6e28-f57e-4a59-a0df-a1e17a2c2c81",
   "metadata": {},
   "outputs": [
    {
     "data": {
      "text/plain": [
       "110132.32897403359"
      ]
     },
     "execution_count": 18,
     "metadata": {},
     "output_type": "execute_result"
    }
   ],
   "source": [
    "fun_c(g.nodes[\"a\"][\"value\"], g.nodes[\"b\"][\"value\"])"
   ]
  },
  {
   "cell_type": "code",
   "execution_count": 19,
   "id": "009f3178-479f-48c8-aa02-d93bf6f8ced7",
   "metadata": {},
   "outputs": [
    {
     "data": {
      "text/plain": [
       "110132.32897403359"
      ]
     },
     "execution_count": 19,
     "metadata": {},
     "output_type": "execute_result"
    }
   ],
   "source": [
    "g.nodes[\"c\"][\"value\"]"
   ]
  }
 ],
 "metadata": {
  "kernelspec": {
   "display_name": "Python 3 (ipykernel)",
   "language": "python",
   "name": "python3"
  },
  "language_info": {
   "codemirror_mode": {
    "name": "ipython",
    "version": 3
   },
   "file_extension": ".py",
   "mimetype": "text/x-python",
   "name": "python",
   "nbconvert_exporter": "python",
   "pygments_lexer": "ipython3",
   "version": "3.8.9"
  }
 },
 "nbformat": 4,
 "nbformat_minor": 5
}
